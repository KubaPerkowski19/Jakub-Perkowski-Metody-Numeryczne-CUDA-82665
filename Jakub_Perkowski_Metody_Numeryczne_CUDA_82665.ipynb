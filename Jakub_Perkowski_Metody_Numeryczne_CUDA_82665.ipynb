{
  "nbformat": 4,
  "nbformat_minor": 0,
  "metadata": {
    "colab": {
      "provenance": []
    },
    "kernelspec": {
      "name": "python3",
      "display_name": "Python 3"
    },
    "language_info": {
      "name": "python"
    },
    "accelerator": "GPU",
    "gpuClass": "standard"
  },
  "cells": [
    {
      "cell_type": "code",
      "execution_count": 1,
      "metadata": {
        "id": "2OM4lHvg-wCW",
        "colab": {
          "base_uri": "https://localhost:8080/"
        },
        "outputId": "b4f9b83b-06f4-4c3d-92c1-62dd0e9f2121"
      },
      "outputs": [
        {
          "output_type": "stream",
          "name": "stdout",
          "text": [
            "nvcc: NVIDIA (R) Cuda compiler driver\n",
            "Copyright (c) 2005-2021 NVIDIA Corporation\n",
            "Built on Sun_Feb_14_21:12:58_PST_2021\n",
            "Cuda compilation tools, release 11.2, V11.2.152\n",
            "Build cuda_11.2.r11.2/compiler.29618528_0\n"
          ]
        }
      ],
      "source": [
        "!nvcc --version"
      ]
    },
    {
      "cell_type": "code",
      "source": [
        "!pip install git+https://github.com/andreinechaev/nvcc4jupyter.git"
      ],
      "metadata": {
        "colab": {
          "base_uri": "https://localhost:8080/"
        },
        "id": "BOIoxtzGDtqd",
        "outputId": "b7f176e0-f7a6-4d2c-85d1-da6175453ef3"
      },
      "execution_count": 2,
      "outputs": [
        {
          "output_type": "stream",
          "name": "stdout",
          "text": [
            "Looking in indexes: https://pypi.org/simple, https://us-python.pkg.dev/colab-wheels/public/simple/\n",
            "Collecting git+https://github.com/andreinechaev/nvcc4jupyter.git\n",
            "  Cloning https://github.com/andreinechaev/nvcc4jupyter.git to /tmp/pip-req-build-q7uezuji\n",
            "  Running command git clone --filter=blob:none --quiet https://github.com/andreinechaev/nvcc4jupyter.git /tmp/pip-req-build-q7uezuji\n",
            "  Resolved https://github.com/andreinechaev/nvcc4jupyter.git to commit aac710a35f52bb78ab34d2e52517237941399eff\n",
            "  Preparing metadata (setup.py) ... \u001b[?25l\u001b[?25hdone\n",
            "Building wheels for collected packages: NVCCPlugin\n",
            "  Building wheel for NVCCPlugin (setup.py) ... \u001b[?25l\u001b[?25hdone\n",
            "  Created wheel for NVCCPlugin: filename=NVCCPlugin-0.0.2-py3-none-any.whl size=4304 sha256=56c457b3f812822713f37f29e4fa7a702dbd33d040fab9e9494e5e75a13337a5\n",
            "  Stored in directory: /tmp/pip-ephem-wheel-cache-l0nokktn/wheels/f3/08/cc/e2b5b0e1c92df07dbb50a6f024a68ce090f5e7b2316b41756d\n",
            "Successfully built NVCCPlugin\n",
            "Installing collected packages: NVCCPlugin\n",
            "Successfully installed NVCCPlugin-0.0.2\n"
          ]
        }
      ]
    },
    {
      "cell_type": "code",
      "source": [
        "%load_ext nvcc_plugin"
      ],
      "metadata": {
        "colab": {
          "base_uri": "https://localhost:8080/"
        },
        "id": "EyJy55l8Du4J",
        "outputId": "ec89252c-ac8b-4017-c508-982eb35af31c"
      },
      "execution_count": 3,
      "outputs": [
        {
          "output_type": "stream",
          "name": "stdout",
          "text": [
            "created output directory at /content/src\n",
            "Out bin /content/result.out\n"
          ]
        }
      ]
    },
    {
      "cell_type": "markdown",
      "source": [
        "Metoda Prostokątów CPU:"
      ],
      "metadata": {
        "id": "YAeQjDKJNXlv"
      }
    },
    {
      "cell_type": "markdown",
      "source": [
        "Program ten oblicza całkę funkcji \"f1(x) = x^2 + x + 10\" przy użyciu metody prostokątów w zakresie wartości od \"xp\" do \"xk\" przy użyciu \"n\" prostokątów. Kod również mierzy czas wykonania tego obliczenia"
      ],
      "metadata": {
        "id": "_dJUSQuMiVlF"
      }
    },
    {
      "cell_type": "code",
      "source": [
        "%%cu\n",
        "#include <math.h>\n",
        "#include <chrono>\n",
        "#include <iostream> \n",
        "#include <sys/time.h>\n",
        "#include <stdio.h>\n",
        "\n",
        "double f1(double x) { return x * x + x + 10; }\n",
        "\n",
        "double metoda_prostokatow(int n, float xp, float xk) {\n",
        "    float calka = 0;\n",
        "    float h = (xk - xp) / (float)n;\n",
        "    int i = 1;\n",
        "\n",
        "    for (i = 1; i <= n; i++) {\n",
        "        calka += f1(xp + i*h)*h;\n",
        "    }\n",
        "\n",
        "    return calka; \n",
        "}\n",
        "\n",
        "\n",
        "int main() {\n",
        "    float xp, xk;\n",
        "    int n = 1000;\n",
        "    int k;\n",
        "\n",
        "    // przedzialy\n",
        "    xp = 1;\n",
        "    xk = 10000000;\n",
        "\n",
        "  //printf(\"n = %d | xp = %d | xk = %d\\n\",n ,xp, xk);\n",
        "for(k = 0; k < 5; k++) {\n",
        "    n *= 10;\n",
        "printf(\"n = %d\\n\",n);\n",
        "\n",
        "\n",
        "  float w1;\n",
        "    struct timeval begin, end;\n",
        "    gettimeofday(&begin, 0);\n",
        "\n",
        "  w1 = metoda_prostokatow(n, xp, xk);\n",
        "\n",
        "    gettimeofday(&end, 0);\n",
        "    long seconds = end.tv_sec - begin.tv_sec;\n",
        "    long microseconds = end.tv_usec - begin.tv_usec;\n",
        "    double elapsed = seconds + microseconds*1e-6;\n",
        "\n",
        "  printf(\"metoda prostokatow wynik = %.2f\\n\",w1);\n",
        "  printf(\"metoda prostokatow czas = %.8f\\n\",elapsed);\n",
        "\n",
        "}\n",
        "}"
      ],
      "metadata": {
        "colab": {
          "base_uri": "https://localhost:8080/"
        },
        "id": "ZBBRU7vhNXzw",
        "outputId": "0ef55ba9-a5cb-4d82-b005-3ed0cd2ff35f"
      },
      "execution_count": 8,
      "outputs": [
        {
          "output_type": "stream",
          "name": "stdout",
          "text": [
            "n = 10000\n",
            "metoda prostokatow czas = 0.00016000\n",
            "n = 100000\n",
            "metoda prostokatow czas = 0.00157300\n",
            "n = 1000000\n",
            "metoda prostokatow czas = 0.01612900\n",
            "n = 10000000\n",
            "metoda prostokatow czas = 0.16123200\n",
            "n = 100000000\n",
            "metoda prostokatow czas = 1.57199900\n",
            "\n"
          ]
        }
      ]
    },
    {
      "cell_type": "markdown",
      "source": [
        "Metoda Trapezów CPU:"
      ],
      "metadata": {
        "id": "_dVQNBYpNYA5"
      }
    },
    {
      "cell_type": "markdown",
      "source": [
        "Program ten to program który liczy całkę numeryczną dla funkcji f(x) = x^2 + x + 10 przy użyciu metody trapezów. W programie zdefiniowano funkcję metoda_trapezow, która przyjmuje trzy argumenty: liczbę przedziałów rozkładu (n), punkt startowy (xp) i punkt końcowy (xk). Wewnątrz tej funkcji zastosowano pętlę, która iteruje przez liczbę przedziałów i wykorzystuje wartości tych przedziałów do obliczenia całki numerycznej. Wynik całki numerycznej jest zwracany przez funkcję. W głównej funkcji programu zdefiniowano zmienne xp i xk jako punkty startowe i końcowe oraz zmienną n jako liczbę przedziałów. W pętli for następuje powiększanie liczby przedziałów oraz wywołanie funkcji metoda_trapezow i mierzenie czasu. Wynik całki numerycznej oraz czas obliczeń są wyświetlane na ekranie."
      ],
      "metadata": {
        "id": "p__a01rPfXUO"
      }
    },
    {
      "cell_type": "code",
      "source": [
        "%%cu\n",
        "#include <math.h>\n",
        "#include <chrono>\n",
        "#include <iostream> \n",
        "#include <sys/time.h>\n",
        "#include <stdio.h>\n",
        "\n",
        "double f1(double x) { return x * x + x + 10; }\n",
        "\n",
        "\n",
        "\n",
        "double metoda_trapezow(int n, float xp, float xk) {\n",
        "    float calka = 0;\n",
        "    float h = (xk - xp) / (float)n;\n",
        "    int i = 1;\n",
        "\n",
        "    for (i = 1; i < n; i++) {\n",
        "        calka += f1(xp + i * h);\n",
        "    }\n",
        "    calka += f1(xp) / 2;\n",
        "    calka += f1(xk) / 2;\n",
        "    calka *= h;\n",
        "\n",
        "    return calka;\n",
        "}\n",
        "\n",
        "\n",
        "\n",
        "int main() {\n",
        "    float xp, xk;\n",
        "    int n = 1000;\n",
        "    int k;\n",
        "\n",
        "    // przedzialy\n",
        "    xp = 1;\n",
        "    xk = 10000000;\n",
        "\n",
        "  //printf(\"n = %d | xp = %d | xk = %d\\n\",n ,xp, xk);\n",
        "for(k = 0; k < 5; k++) {\n",
        "    n *= 10;\n",
        "printf(\"n = %d\\n\",n);\n",
        "\n",
        "\n",
        "\n",
        "\n",
        "  float w2;\n",
        "  struct timeval begin2, end2;\n",
        "    gettimeofday(&begin2, 0);\n",
        "\n",
        "  w2 = metoda_trapezow(n, xp, xk);\n",
        "\n",
        "  gettimeofday(&end2, 0);\n",
        "    long seconds2 = end2.tv_sec - begin2.tv_sec;\n",
        "    long microseconds2 = end2.tv_usec - begin2.tv_usec;\n",
        "    double elapsed = seconds2 + microseconds2*1e-6;\n",
        "  printf(\"metoda trapezow wynik = %.2f\\n\",w2);\n",
        "  printf(\"metoda trapezow czas = %.8f\\n\",elapsed);\n",
        "  \n",
        "\n",
        "\n",
        "\n",
        "}\n",
        "\n",
        "\n",
        "}"
      ],
      "metadata": {
        "colab": {
          "base_uri": "https://localhost:8080/"
        },
        "id": "8-dDSQ6TNYMt",
        "outputId": "ee499377-153a-4456-c575-92ba8302e3f5"
      },
      "execution_count": 12,
      "outputs": [
        {
          "output_type": "stream",
          "name": "stdout",
          "text": [
            "n = 10000\n",
            "metoda trapezow wynik = 333333011626152951808.00\n",
            "metoda trapezow czas = 0.00013300\n",
            "n = 100000\n",
            "metoda trapezow wynik = 333333996788571439104.00\n",
            "metoda trapezow czas = 0.00136100\n",
            "n = 1000000\n",
            "metoda trapezow wynik = 333324989589316698112.00\n",
            "metoda trapezow czas = 0.01410000\n",
            "n = 10000000\n",
            "metoda trapezow wynik = 336984445761531936768.00\n",
            "metoda trapezow czas = 0.13839500\n",
            "n = 100000000\n",
            "metoda trapezow wynik = 236118292477547380736.00\n",
            "metoda trapezow czas = 1.38076100\n",
            "\n"
          ]
        }
      ]
    },
    {
      "cell_type": "markdown",
      "source": [
        "Metoda Simpsona CPU:"
      ],
      "metadata": {
        "id": "t_vQ0PVQNYVA"
      }
    },
    {
      "cell_type": "markdown",
      "source": [
        "Jest to programem napisanym w języku C++, który liczy całkę funkcji f(x) = x^2 + x + 10 na przedziale od 1 do 10000000 przy użyciu metody Simpsona. Wartość całki jest obliczana poprzez iterowanie po przedziale z krokiem h (w zależności od liczby podprzedziałów n) i sumowanie wartości funkcji f(x) na krańcach przedziału oraz w połowie przedziału. Program mierzy również czas wykonania obliczeń dla różnych wartości n (1000, 10000, 100000 itd.) i wyświetla wynik oraz czas wykonania."
      ],
      "metadata": {
        "id": "6Ct1ZY6seurh"
      }
    },
    {
      "cell_type": "code",
      "source": [
        "%%cu\n",
        "#include <math.h>\n",
        "#include <chrono>\n",
        "#include <iostream> \n",
        "#include <sys/time.h>\n",
        "#include <stdio.h>\n",
        "\n",
        "double f1(double x) { return x * x + x + 10; }\n",
        "\n",
        "\n",
        "\n",
        "\n",
        "double metoda_simpsona(int n, float xp, float xk) {\n",
        "    float calka = 0;\n",
        "    float h = (xk - xp) / (float)n;\n",
        "    float s = 0;\n",
        "    float x;\n",
        "    int i = 1;\n",
        "    \n",
        "    for (i = 1; i < n; i++) {\n",
        "      x = xp + i * h;\n",
        "      s += f1(x - h / 2);\n",
        "      calka += f1(x);\n",
        "    }\n",
        "    s += f1(xk - h / 2);\n",
        "    calka = (h / 6) * (f1(xp) + f1(xk) + 2 * calka + 4 * s);\n",
        "\n",
        "    return calka;\n",
        "}\n",
        "\n",
        "int main() {\n",
        "    float xp, xk;\n",
        "    int n = 1000;\n",
        "    int k;\n",
        "\n",
        "    // przedzialy\n",
        "    xp = 1;\n",
        "    xk = 10000000;\n",
        "\n",
        "  //printf(\"n = %d | xp = %d | xk = %d\\n\",n ,xp, xk);\n",
        "for(k = 0; k < 5; k++) {\n",
        "    n *= 10;\n",
        "printf(\"n = %d\\n\",n);\n",
        "\n",
        "\n",
        "\n",
        "\n",
        "  float w3;\n",
        "  struct timeval begin3, end3;\n",
        "    gettimeofday(&begin3, 0);\n",
        "\n",
        "  w3 = metoda_simpsona(n, xp, xk);\n",
        "\n",
        "  gettimeofday(&end3, 0);\n",
        "    long seconds3 = end3.tv_sec - begin3.tv_sec;\n",
        "    long microseconds3 = end3.tv_usec - begin3.tv_usec;\n",
        "    double elapsed3 = seconds3 + microseconds3*1e-6;\n",
        "  printf(\"metoda simpsona wynik = %.2f\\n\",w3);\n",
        "  printf(\"metoda simpsona czas = %.8f\\n\",elapsed3);\n",
        "\n",
        "}\n",
        "\n",
        "\n",
        "}"
      ],
      "metadata": {
        "colab": {
          "base_uri": "https://localhost:8080/"
        },
        "id": "WclkocRFNYbA",
        "outputId": "cb84c75c-91f7-420e-a9a0-2d7190ac980a"
      },
      "execution_count": 13,
      "outputs": [
        {
          "output_type": "stream",
          "name": "stdout",
          "text": [
            "n = 10000\n",
            "metoda simpsona wynik = 333333715313594728448.00\n",
            "metoda simpsona czas = 0.00026000\n",
            "n = 100000\n",
            "metoda simpsona wynik = 333333891235455172608.00\n",
            "metoda simpsona czas = 0.00269600\n",
            "n = 1000000\n",
            "metoda simpsona wynik = 333324989589316698112.00\n",
            "metoda simpsona czas = 0.02639300\n",
            "n = 10000000\n",
            "metoda simpsona wynik = 336984445761531936768.00\n",
            "metoda simpsona czas = 0.26272100\n",
            "n = 100000000\n",
            "metoda simpsona wynik = 236118292477547380736.00\n",
            "metoda simpsona czas = 2.71224200\n",
            "\n"
          ]
        }
      ]
    },
    {
      "cell_type": "markdown",
      "source": [
        "Metoda Prostokątów GPU:"
      ],
      "metadata": {
        "id": "1UxpxA5_Lrkz"
      }
    },
    {
      "cell_type": "markdown",
      "source": [
        "Program jest w języku C++, który implementuje metodę numerycznej całkowania zwaną metodą prostokątów z wykorzystaniem CUDA. Program oblicza całkę określoną danej funkcji (w tym przypadku f(x) = x^2 + x + 10) na danym przedziale za pomocą metody prostokątów. Funkcja jest najpierw zdefiniowana w pamięci hosta, a następnie skopiowana do pamięci urządzenia. Funkcja jądra \"watek_prostokaty\" jest zdefiniowana i uruchomiona, aby obliczyć całkę określoną funkcji na pamięci urządzenia. Wynik jest następnie skopiowany z powrotem do pamięci hosta i zwracany jako końcowy wynik. Program mierzy również czas potrzebny do wykonania obliczeń."
      ],
      "metadata": {
        "id": "l7lCgdR5eE9T"
      }
    },
    {
      "cell_type": "code",
      "source": [
        "%%cu\n",
        "#include <sys/time.h>\n",
        "#include <stdio.h>\n",
        "#include <chrono>\n",
        "#include <iostream>\n",
        "#include <math.h>\n",
        "using namespace std;\n",
        "\n",
        "// funkcja obliczająca wartość f(x) = x^2 + x + 10 w pamięci urządzenia\n",
        "__device__ float fg(float x) { return x * x + x + 10; }\n",
        "\n",
        "__global__ void watek_prostokaty( float xp, float h, int n, float* tab) {\n",
        "    \n",
        "  int tid = blockIdx.x + 1;\n",
        "\n",
        "      if(tid < n){\n",
        "      \n",
        "//oblicza pole prostokąta i zapisuje je w tablicy\n",
        "      tab[tid - 1] = fg(xp + tid * h) * h;\n",
        "      }\n",
        "\n",
        "  \n",
        "}\n",
        "\n",
        "float f1(float x) { return x * x + x + 10; }\n",
        "\n",
        "float metoda_prostokatow( float xp, float xk, int n) {\n",
        "    \n",
        "// funkcja do obliczania powierzchni metodą prostokąta\n",
        "    size_t size = n * sizeof(float);                      // oblicz rozmiar tablicy typu float\n",
        "\n",
        "    float* dev;                                           // tworzy wskaźnik zmiennoprzecinkowy dla pamięci urządzenia\n",
        "    float* host = (float*)malloc(size);                   // tworzy wskaźnik zmiennoprzecinkowy i przydziela pamięć w pamięci hosta\n",
        "    \n",
        "\n",
        "    float suma = 0;\n",
        "    cudaMalloc((void**) &dev,size);\n",
        "    float h = (xk - xp) / (float)n;\n",
        "    \n",
        "    watek_prostokaty<<<n,1>>> (xp, h, n, dev);\n",
        "    cudaMemcpy(host, dev, sizeof(float) * n, cudaMemcpyDeviceToHost);\n",
        "    for(int i = 0; i < n; i++){\n",
        "        suma += host[i];\n",
        "    }\n",
        "    free(host);\n",
        "    cudaFree(dev);\n",
        "\n",
        "\n",
        "    return suma;\n",
        "\n",
        "}\n",
        "\n",
        "int main() {\n",
        "    \n",
        "    float xp, xk;\n",
        "    int n = 10000, n2 = 100000, n3 = 1000000, n4 = 10000000, n5 = 100000000;\n",
        "    int k;\n",
        "\n",
        "    // przedzialy\n",
        "    xp = 1;\n",
        "    xk = 10000000;\n",
        "\n",
        "    //printf(\"n = %d\\n\",n);\n",
        "        cout<<\"n = \"<<n<<endl;\n",
        "        auto start1 = chrono::steady_clock::now();\n",
        "        float w1 = metoda_prostokatow(xp, xk, n);\n",
        "        auto end1 = chrono::steady_clock::now();\n",
        "        auto diff1 = end1 - start1;\n",
        "        printf(\"metoda prostokatow wynik = %.2f\\n\",w1);\n",
        "        cout<<\"metoda prostokatow czas = \"<<(chrono::duration <double, milli> (diff1).count()) / 1000<<endl;\n",
        "\n",
        "        cout<<\"n = \"<<n2<<endl;\n",
        "        auto start2 = chrono::steady_clock::now();\n",
        "        float w2 = metoda_prostokatow(xp, xk, n2);\n",
        "        auto end2 = chrono::steady_clock::now();\n",
        "        auto diff2 = end2 - start2;\n",
        "        printf(\"metoda prostokatow wynik = %.2f\\n\",w2);\n",
        "        cout<<\"metoda prostokatow czas = \"<<(chrono::duration <double, milli> (diff2).count()) / 1000<<endl;\n",
        "\n",
        "        cout<<\"n = \"<<n3<<endl;\n",
        "        auto start3 = chrono::steady_clock::now();\n",
        "        float w3 = metoda_prostokatow(xp, xk, n);\n",
        "        auto end3 = chrono::steady_clock::now();\n",
        "        auto diff3 = end3 - start3;\n",
        "        printf(\"metoda prostokatow wynik = %.2f\\n\",w3);\n",
        "        cout<<\"metoda prostokatow czas = \"<<(chrono::duration <double, milli> (diff3).count()) / 1000<<endl;\n",
        "\n",
        "        cout<<\"n = \"<<n4<<endl;\n",
        "        auto start4 = chrono::steady_clock::now();\n",
        "        float w4 = metoda_prostokatow(xp, xk, n);\n",
        "        auto end4 = chrono::steady_clock::now();\n",
        "        auto diff4 = end4 - start4;\n",
        "        printf(\"metoda prostokatow wynik = %.2f\\n\",w4);\n",
        "        cout<<\"metoda prostokatow czas = \"<<(chrono::duration <double, milli> (diff4).count()) / 1000<<endl;\n",
        "\n",
        "        cout<<\"n = \"<<n5<<endl;\n",
        "        auto start5 = chrono::steady_clock::now();\n",
        "        float w5 = metoda_prostokatow(xp, xk, n5);\n",
        "        auto end5 = chrono::steady_clock::now();\n",
        "        auto diff5 = end5 - start5;\n",
        "        printf(\"metoda prostokatow wynik = %.2f\\n\",w5);\n",
        "        cout<<\"metoda prostokatow czas = \"<<(chrono::duration <double, milli> (diff5).count()) / 1000<<endl;\n",
        "    return 0;\n",
        "}"
      ],
      "metadata": {
        "colab": {
          "base_uri": "https://localhost:8080/"
        },
        "id": "RNqJVc-CLQV5",
        "outputId": "d5e16208-6cb1-40f3-f745-d089635177b2"
      },
      "execution_count": 24,
      "outputs": [
        {
          "output_type": "stream",
          "name": "stdout",
          "text": [
            "n = 10000\n",
            "metoda prostokatow wynik = 333283260924019343360.00\n",
            "metoda prostokatow czas = 0.245098\n",
            "n = 100000\n",
            "metoda prostokatow wynik = 333328226551548870656.00\n",
            "metoda prostokatow czas = 0.000989215\n",
            "n = 1000000\n",
            "metoda prostokatow wynik = 333283260924019343360.00\n",
            "metoda prostokatow czas = 0.000278742\n",
            "n = 10000000\n",
            "metoda prostokatow wynik = 333283260924019343360.00\n",
            "metoda prostokatow czas = 0.000272243\n",
            "n = 100000000\n",
            "metoda prostokatow wynik = 256865408390610812928.00\n",
            "metoda prostokatow czas = 0.772253\n",
            "\n"
          ]
        }
      ]
    },
    {
      "cell_type": "markdown",
      "source": [
        "Metoda Trapezów GPU:"
      ],
      "metadata": {
        "id": "eG_Vmnb1L2by"
      }
    },
    {
      "cell_type": "markdown",
      "source": [
        "Program jest w języku C++, który implementuje metodę numerycznej całkowania zwaną metodą trapezów z wykorzystaniem CUDA. Program oblicza całkę określoną danej funkcji (w tym przypadku f(x) = x^2 + x + 10) na danym przedziale za pomocą metody trapezów. Funkcja jest najpierw zdefiniowana w pamięci hosta, a następnie skopiowana do pamięci urządzenia. Funkcja jądra \"watek_trapezy\" jest zdefiniowana i uruchomiona, aby obliczyć całkę określoną funkcji na pamięci urządzenia. Wynik jest następnie skopiowany z powrotem do pamięci hosta i zwracany jako końcowy wynik. Program mierzy również czas potrzebny do wykonania obliczeń."
      ],
      "metadata": {
        "id": "qtPxqqw1c2ZX"
      }
    },
    {
      "cell_type": "code",
      "source": [
        "%%cu\n",
        "#include <sys/time.h>\n",
        "#include <stdio.h>\n",
        "#include <chrono>\n",
        "#include <iostream>\n",
        "#include <math.h>\n",
        "using namespace std;\n",
        "\n",
        "// funkcja obliczająca wartość f(x) = x^2 + x + 10 w pamięci urządzenia\n",
        "__device__ float fg(float x) { return x * x + x + 10; }\n",
        "\n",
        "\n",
        "// funkcja jądra do obliczania pola metodą trapezów\n",
        "__global__ void watek_trapezy( float xp, float h, int n, float* tab) {\n",
        "    \n",
        "\t\tint tid = blockIdx.x + 1;\n",
        "\n",
        "      if(tid < n){\n",
        "//oblicza wysokość trapezu i zapisuje ją w tablicy\n",
        "      tab[tid-1] = fg(xp + tid * h);\n",
        "      }\n",
        "  \n",
        "}\n",
        "\n",
        "\n",
        "\n",
        " float f1(float x) { return x * x + x + 10; }\n",
        "\n",
        "float metoda_trapezow( float xp, float xk, int n) {\n",
        "    \n",
        "    //cudaError_t status;\n",
        "    size_t size = n * sizeof(float);\n",
        "\n",
        "    float* dev;\n",
        "    float* host = (float*)malloc(size);\n",
        "    \n",
        "\n",
        "    float suma = 0;\n",
        "    cudaMalloc((void**) &dev,size);\n",
        "    float h = (xk - xp) / (float)n;\n",
        "    \n",
        "    watek_trapezy<<<n,1>>> (xp, h, n, dev);\n",
        "    cudaMemcpy(host, dev, sizeof(float) * n, cudaMemcpyDeviceToHost);\n",
        "    \n",
        "    for(int i = 0; i < n; i++){\n",
        "        suma += host[i];\n",
        "    }\n",
        "    \n",
        "    free(host);\n",
        "    cudaFree(dev);\n",
        "\n",
        "    return h*((f1(xp) / 2) + suma + (f1(xk) / 2));\n",
        "\n",
        "}\n",
        "\n",
        "int main() {\n",
        "    \n",
        "    float xp, xk;\n",
        "    int n = 10000, n2 = 100000, n3 = 1000000, n4 = 10000000, n5 = 100000000;\n",
        "    int k;\n",
        "\n",
        "    // przedzialy\n",
        "    xp = 1;\n",
        "    xk = 10000000;\n",
        "\n",
        "    //printf(\"n = %d\\n\",n);\n",
        "\n",
        "    cout<<\"n = \"<<n<<endl;\n",
        "        auto start1 = chrono::steady_clock::now();\n",
        "        float w1 = metoda_trapezow(xp, xk, n);\n",
        "        auto end1 = chrono::steady_clock::now();\n",
        "        auto diff1 = end1 - start1;\n",
        "        printf(\"metoda trapezow wynik = %.2f\\n\",w1);\n",
        "        cout<<\"metoda trapezow czas = \"<<(chrono::duration <double, milli> (diff1).count()) / 1000<<endl;\n",
        "\n",
        "        cout<<\"n = \"<<n2<<endl;\n",
        "        auto start2 = chrono::steady_clock::now();\n",
        "        float w2 = metoda_trapezow(xp, xk, n2);\n",
        "        auto end2 = chrono::steady_clock::now();\n",
        "        auto diff2 = end2 - start2;\n",
        "        printf(\"metoda trapezow wynik = %.2f\\n\",w2);\n",
        "        cout<<\"metoda trapezow czas = \"<<(chrono::duration <double, milli> (diff2).count()) / 1000<<endl;\n",
        "\n",
        "        cout<<\"n = \"<<n3<<endl;\n",
        "        auto start3 = chrono::steady_clock::now();\n",
        "        float w3 = metoda_trapezow(xp, xk, n3);\n",
        "        auto end3 = chrono::steady_clock::now();\n",
        "        auto diff3 = end3 - start3;\n",
        "        printf(\"metoda trapezow wynik = %.2f\\n\",w3);\n",
        "        cout<<\"metoda trapezow czas = \"<<(chrono::duration <double, milli> (diff3).count()) / 1000<<endl;\n",
        "\n",
        "        cout<<\"n = \"<<n4<<endl;\n",
        "        auto start4 = chrono::steady_clock::now();\n",
        "        float w4 = metoda_trapezow(xp, xk, n4);\n",
        "        auto end4 = chrono::steady_clock::now();\n",
        "        auto diff4 = end4 - start4;\n",
        "        printf(\"metoda trapezow wynik = %.2f\\n\",w4);\n",
        "        cout<<\"metoda trapezow czas = \"<<(chrono::duration <double, milli> (diff4).count()) / 1000<<endl;\n",
        "\n",
        "        cout<<\"n = \"<<n5<<endl;\n",
        "        auto start5 = chrono::steady_clock::now();\n",
        "        float w5 = metoda_trapezow(xp, xk, n5);\n",
        "        auto end5 = chrono::steady_clock::now();\n",
        "        auto diff5 = end5 - start5;\n",
        "        printf(\"metoda trapezow wynik = %.2f\\n\",w5);\n",
        "        cout<<\"metoda trapezow czas = \"<<(chrono::duration <double, milli> (diff5).count()) / 1000<<endl;\n",
        "    return 0;\n",
        "}"
      ],
      "metadata": {
        "colab": {
          "base_uri": "https://localhost:8080/"
        },
        "id": "AozLIrPVL1zS",
        "outputId": "c4aad74b-247f-4732-8fda-38a9473b5ae7"
      },
      "execution_count": 21,
      "outputs": [
        {
          "output_type": "stream",
          "name": "stdout",
          "text": [
            "n = 10000\n",
            "metoda trapezow wynik = 333333011626152951808.00\n",
            "metoda trapezow czas = 0.21973\n",
            "n = 100000\n",
            "metoda trapezow wynik = 333333996788571439104.00\n",
            "metoda trapezow czas = 0.00108517\n",
            "n = 1000000\n",
            "metoda trapezow wynik = 333324989589316698112.00\n",
            "metoda trapezow czas = 0.00704284\n",
            "n = 10000000\n",
            "metoda trapezow wynik = 336984410577159847936.00\n",
            "metoda trapezow czas = 0.0773815\n",
            "n = 100000000\n",
            "metoda trapezow wynik = 236118292477547380736.00\n",
            "metoda trapezow czas = 0.784583\n",
            "\n"
          ]
        }
      ]
    },
    {
      "cell_type": "markdown",
      "source": [
        "Metoda Simpsona GPU:"
      ],
      "metadata": {
        "id": "iWUiu9e-L45A"
      }
    },
    {
      "cell_type": "markdown",
      "source": [
        "Program jest w języku C++, który implementuje metodę numerycznej całkowania zwaną regułą Simpsona z wykorzystaniem CUDA. Program oblicza całkę określoną danej funkcji (w tym przypadku f(x) = x^2 + x + 10) na danym przedziale za pomocą reguły Simpsona. Funkcja jest najpierw zdefiniowana w pamięci hosta, a następnie skopiowana do pamięci urządzenia. Funkcja jądra \"watek_simpson\" jest zdefiniowana i uruchomiona, aby obliczyć całkę określoną funkcji na pamięci urządzenia. Wynik jest następnie skopiowany z powrotem do pamięci hosta i zwracany jako końcowy wynik. Program mierzy również czas potrzebny do wykonania obliczeń."
      ],
      "metadata": {
        "id": "zoCLiCVrcf9X"
      }
    },
    {
      "cell_type": "code",
      "source": [
        "%%cu\n",
        "#include <sys/time.h>\n",
        "#include <stdio.h>\n",
        "#include <chrono>\n",
        "#include <iostream>\n",
        "#include <math.h>\n",
        "using namespace std;\n",
        "\n",
        "// funkcja obliczająca wartość f(x) = x^2 + x + 10 w pamięci urządzenia\n",
        "__device__ float fg(float x) { return x * x + x + 10; }\n",
        "\n",
        "\n",
        "// funkcja jądra do obliczania powierzchni metodą simpsona\n",
        "__global__ void watek_simpson( float xp, float h, int n, float* tab, float* tab2 ) {\n",
        "    \n",
        "\t\tint tid = blockIdx.x + 1;\n",
        "  \n",
        "      if(tid < n + 1){\n",
        "\t\ttab2[tid - 1] = xp + tid * h;\n",
        "\t\ttab[tid - 1] = fg(xp + tid * h);\n",
        "      }\n",
        "  \n",
        "}\n",
        "\n",
        "\n",
        " float f1(float x) { return x * x + x + 10; }\n",
        "\n",
        "\n",
        "\n",
        "float metoda_simpsona( float xp, float xk, int n) {\n",
        "    \n",
        "    //cudaError_t status;\n",
        "    size_t size = n * sizeof(float);\n",
        "\n",
        "    float* dev;\n",
        "    float* host = (float*)malloc(size);\n",
        "    float* dev2;\n",
        "    float* host2 = (float*)malloc(size);\n",
        "    \n",
        "\n",
        "    \n",
        "    float suma1 = 0 ,suma2 = 0;\n",
        "    float t[n];\n",
        "    cudaMalloc((void**) &dev,size);\n",
        "    cudaMalloc((void**) &dev2,size);\n",
        "    float h = (xk - xp) / (float)n;\n",
        "    \n",
        "    watek_simpson<<<n,1>>> (xp, h, n, dev, dev2);\n",
        "    cudaMemcpy(host, dev, sizeof(float)*n, cudaMemcpyDeviceToHost);\n",
        "    cudaMemcpy(host2, dev2, sizeof(float)*n, cudaMemcpyDeviceToHost);\n",
        "    \n",
        "    for(int i = 0; i < n; i++){\n",
        "        t[i] = f1((host2[i + 1] +host2[i]) / 2);\n",
        "    }\n",
        "\n",
        "    for(int i = 0 ; i < n; i++){\n",
        "            suma1 += t[i];\n",
        "        }\n",
        "\n",
        "    suma1 *= 4;\n",
        "    for(int i = 1 ; i < n; i++){\n",
        "        suma2 += host[i];\n",
        "    }\n",
        "\n",
        "    suma2 *= 2;\n",
        "    free(host);\n",
        "    cudaFree(dev);\n",
        "    free(host2);\n",
        "    cudaFree(dev2);\n",
        "    \n",
        "    return (f1(xp) + host[n] + suma1 + suma2) * (h / 6);\n",
        "\n",
        "}\n",
        "\n",
        "int main() {\n",
        "    \n",
        "    float xp, xk;\n",
        "    int n = 10000, n2 = 100000, n3 = 1000000, n4 = 10000000, n5 = 100000000;\n",
        "    int k;\n",
        "\n",
        "    // przedzialy\n",
        "    xp = 1;\n",
        "    xk = 10000000;\n",
        "\n",
        "    //printf(\"n = %d\\n\",n);\n",
        "    cout<<\"n = \"<<n<<endl;\n",
        "        auto start1 = chrono::steady_clock::now();\n",
        "        float w1 = metoda_simpsona(xp, xk, n);\n",
        "        auto end1 = chrono::steady_clock::now();\n",
        "        auto diff1 = end1 - start1;\n",
        "        printf(\"metoda simpsona wynik = %.2f\\n\",w1);\n",
        "        cout<<\"metoda simpsona czas = \"<<(chrono::duration <double, milli> (diff1).count()) / 1000<<endl;\n",
        "\n",
        "        cout<<\"n = \"<<n2<<endl;\n",
        "        auto start2 = chrono::steady_clock::now();\n",
        "        float w2 = metoda_simpsona(xp, xk, n2);\n",
        "        auto end2 = chrono::steady_clock::now();\n",
        "        auto diff2 = end2 - start2;\n",
        "        printf(\"metoda simpsona wynik = %.2f\\n\",w2);\n",
        "        cout<<\"metoda simpsona czas = \"<<(chrono::duration <double, milli> (diff2).count()) / 1000<<endl;\n",
        "\n",
        "        cout<<\"n = \"<<n3<<endl;\n",
        "        auto start3 = chrono::steady_clock::now();\n",
        "        float w3 = metoda_simpsona(xp, xk, n3);\n",
        "        auto end3 = chrono::steady_clock::now();\n",
        "        auto diff3 = end3 - start3;\n",
        "        printf(\"metoda simpsona wynik = %.2f\\n\",w3);\n",
        "        cout<<\"metoda simpsona czas = \"<<(chrono::duration <double, milli> (diff3).count()) / 1000<<endl;\n",
        "\n",
        "        cout<<\"n = \"<<n4<<endl;\n",
        "        auto start4 = chrono::steady_clock::now();\n",
        "        float w4 = metoda_simpsona(xp, xk, n4);\n",
        "        auto end4 = chrono::steady_clock::now();\n",
        "        auto diff4 = end4 - start4;\n",
        "        printf(\"metoda simpsona wynik = %.2f\\n\",w4);\n",
        "        cout<<\"metoda simpsona czas = \"<<(chrono::duration <double, milli> (diff4).count()) / 1000<<endl;\n",
        "\n",
        "        cout<<\"n = \"<<n5<<endl;\n",
        "        auto start5 = chrono::steady_clock::now();\n",
        "        float w5 = metoda_simpsona(xp, xk, n5);\n",
        "        auto end5 = chrono::steady_clock::now();\n",
        "        auto diff5 = end5 - start5;\n",
        "        printf(\"metoda simpsona wynik = %.2f\\n\",w5);\n",
        "        cout<<\"metoda simpsona czas = \"<<(chrono::duration <double, milli> (diff5).count()) / 1000<<endl;\n",
        "    return 0;\n",
        "}"
      ],
      "metadata": {
        "colab": {
          "base_uri": "https://localhost:8080/"
        },
        "id": "7-__-opfL5AX",
        "outputId": "e0055f59-5b19-4b32-fa6d-3abfe1e40dfa"
      },
      "execution_count": 44,
      "outputs": [
        {
          "output_type": "stream",
          "name": "stdout",
          "text": [
            "n = 10000\n",
            "metoda simpsona wynik = 333367070098334941184.00\n",
            "metoda simpsona czas = 0.2228\n",
            "n = 100000\n",
            "metoda simpsona wynik = 333337233750803611648.00\n",
            "metoda simpsona czas = 0.0022849\n",
            "n = 1000000\n",
            "metoda simpsona wynik = 333325306248665497600.00\n",
            "metoda simpsona czas = 0.0183042\n",
            "n = 10000000\n",
            "\n"
          ]
        }
      ]
    },
    {
      "cell_type": "markdown",
      "source": [
        "Graf przedstawiający czasy obliczeń dla coraz większej wartości N dla poszczegulnych metod"
      ],
      "metadata": {
        "id": "dqjE00E1c6XZ"
      }
    },
    {
      "cell_type": "code",
      "source": [
        "import matplotlib.pyplot as plt\n",
        " \n",
        "x  = [10000, 100000, 1000000, 10000000, 100000000]\n",
        "y1 = [0.00016000, 0.00157300, 0.01612900, 0.16123200, 1.57199900]\n",
        "y2 = [0.245098, 0.000989215, 0.000278742, 0.000272243, 0.772253]\n",
        "plt.plot(x, y1, label=\"CPU\")\n",
        "plt.plot(x, y2, label=\"GPU\")\n",
        "plt.plot()\n",
        "\n",
        "plt.xlabel(\"N\")\n",
        "plt.ylabel(\"Czas\")\n",
        "plt.title(\"Metoda Prostokątów\")\n",
        "plt.legend()\n",
        "plt.show()"
      ],
      "metadata": {
        "colab": {
          "base_uri": "https://localhost:8080/",
          "height": 295
        },
        "id": "V1JZ4ZVMXL5F",
        "outputId": "73d551b2-791f-4ce8-8dd2-a95bdf2141c2"
      },
      "execution_count": 37,
      "outputs": [
        {
          "output_type": "display_data",
          "data": {
            "text/plain": [
              "<Figure size 432x288 with 1 Axes>"
            ],
            "image/png": "[encoded data removed]"
          },
          "metadata": {
            "needs_background": "light"
          }
        }
      ]
    },
    {
      "cell_type": "code",
      "source": [
        "import numpy as np\n",
        "import matplotlib.pyplot as plt\n",
        "\n",
        "x  = [10000, 100000, 1000000, 10000000, 100000000]\n",
        "y1 = [0.00013300, 0.00136100, 0.01410000, 0.13839500, 1.38076100]\n",
        "y2 = [0.21973, 0.00108517, 0.00704284, 0.0773815, 0.784583]\n",
        "plt.plot(x, y1, label=\"CPU\")\n",
        "plt.plot(x, y2, label=\"GPU\")\n",
        "plt.plot()\n",
        "\n",
        "plt.xlabel(\"N\")\n",
        "plt.ylabel(\"Czas\")\n",
        "plt.title(\"Metoda Trapezów\")\n",
        "plt.legend()\n",
        "plt.show()"
      ],
      "metadata": {
        "colab": {
          "base_uri": "https://localhost:8080/",
          "height": 295
        },
        "id": "DQYCO-eHXu-c",
        "outputId": "5595a4c5-2d73-4c0a-c4d7-7f96de520d70"
      },
      "execution_count": 52,
      "outputs": [
        {
          "output_type": "display_data",
          "data": {
            "text/plain": [
              "<Figure size 432x288 with 1 Axes>"
            ],
            "image/png": "[encoded data removed]"
          },
          "metadata": {
            "needs_background": "light"
          }
        }
      ]
    },
    {
      "cell_type": "code",
      "source": [
        "import matplotlib.pyplot as plt\n",
        "\n",
        "\n",
        "\n",
        "x  = [10000, 100000, 1000000, 10000000, 100000000]\n",
        "y1 = [0.00026000, 0.00269600, 0.02639300, 0.26272100, 2.71224200]\n",
        "y2 = [0.219601, 0.00204353, 0.257344, 0.0773815, 0.784583]\n",
        "plt.plot(x, y1, label=\"CPU\")\n",
        "plt.plot(x, y2, label=\"GPU\")\n",
        "plt.plot()\n",
        "\n",
        "plt.xlabel(\"N\")\n",
        "plt.ylabel(\"Czas\")\n",
        "plt.title(\"Metoda Simpsona\")\n",
        "plt.legend()\n",
        "plt.show()"
      ],
      "metadata": {
        "colab": {
          "base_uri": "https://localhost:8080/",
          "height": 295
        },
        "id": "3YWoO_V_XvJx",
        "outputId": "bb9382d7-1e2b-496e-9702-022400e22774"
      },
      "execution_count": 49,
      "outputs": [
        {
          "output_type": "display_data",
          "data": {
            "text/plain": [
              "<Figure size 432x288 with 1 Axes>"
            ],
            "image/png": "[encoded data removed]"
          },
          "metadata": {
            "needs_background": "light"
          }
        }
      ]
    }
  ]
}